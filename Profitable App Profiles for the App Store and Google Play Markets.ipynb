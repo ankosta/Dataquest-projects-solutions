{
 "cells": [
  {
   "cell_type": "markdown",
   "metadata": {},
   "source": [
    "# Profitable App Profiles for the App Store and Google Play Markets"
   ]
  },
  {
   "cell_type": "markdown",
   "metadata": {},
   "source": [
    "This project is mimicking a life-like problem, where I am playing the role of data analyst that works for a company that builds Android and iOS mobile apps. My job is to enable our team of developers to make data-driven decisions concerning the kind of apps they build.\n",
    "\n",
    "This project aims to help the developers understand what type of apps are likely to attract more users on Google Play and the App Store. To do this, we'll need to collect and analyze data about mobile apps available on Google Play and the App Store. The analysis is focused on English and free of charge applications as this is the market we are interested in."
   ]
  },
  {
   "cell_type": "markdown",
   "metadata": {},
   "source": [
    "# Collecting and Exploring Data"
   ]
  },
  {
   "cell_type": "markdown",
   "metadata": {},
   "source": [
    "According to the DataQuest, as of September 2018, there were about 2 million iOS apps accessible on the App Store, and 2.1 million Android apps on Google Play.\n",
    "\n",
    "For this introductory project we will use only a sample of the data that is available publicly on Kaggle:\n",
    "\n",
    "1- Android apps from Google Play data set, containing almost 11K applications:\n",
    "https://www.kaggle.com/lava18/google-play-store-apps \n",
    "\n",
    "2- iOS apps from the App Store data set, containing approx. 7K applications:\n",
    "https://www.kaggle.com/ramamet4/app-store-apple-data-set-10k-apps\n",
    "\n",
    "Firstly I will read in two data sets."
   ]
  },
  {
   "cell_type": "code",
   "execution_count": 1,
   "metadata": {},
   "outputs": [],
   "source": [
    "from csv import reader\n",
    "\n",
    "## The Android Apps data set ##\n",
    "opened_file = open(\"googleplaystore.csv\", encoding=\"Latin-1\")\n",
    "# the file in question gave me an error while using default encoding #\n",
    "read_file = reader(opened_file)\n",
    "android = list(read_file)\n",
    "android_header = android[0]\n",
    "android = android[1:]\n",
    "\n",
    "## The ios Apps data set ##\n",
    "opened_file = open(\"AppleStore.csv\", encoding=\"Latin-1\")\n",
    "# the file in question gave me an error while is not using default encoding #\n",
    "read_file = reader(opened_file)\n",
    "ios = list(read_file)\n",
    "ios_header = ios[0]\n",
    "ios = ios[1:]"
   ]
  },
  {
   "cell_type": "markdown",
   "metadata": {},
   "source": [
    "I'll continue by exploring these two data sets. To make this process easier, let's create a function named explore_data() that can be repeatedly used to print rows in a readable way."
   ]
  },
  {
   "cell_type": "code",
   "execution_count": 2,
   "metadata": {},
   "outputs": [
    {
     "name": "stdout",
     "output_type": "stream",
     "text": [
      "['App', 'Category', 'Rating', 'Reviews', 'Size', 'Installs', 'Type', 'Price', 'Content Rating', 'Genres', 'Last Updated', 'Current Ver', 'Android Ver']\n",
      "\n",
      "\n",
      "['Photo Editor & Candy Camera & Grid & ScrapBook', 'ART_AND_DESIGN', '4.1', '159', '19M', '10,000+', 'Free', '0', 'Everyone', 'Art & Design', 'January 7, 2018', '1.0.0', '4.0.3 and up']\n",
      "\n",
      "\n",
      "['Coloring book moana', 'ART_AND_DESIGN', '3.9', '967', '14M', '500,000+', 'Free', '0', 'Everyone', 'Art & Design;Pretend Play', 'January 15, 2018', '2.0.0', '4.0.3 and up']\n",
      "\n",
      "\n",
      "['U Launcher Lite â\\x80\\x93 FREE Live Cool Themes, Hide Apps', 'ART_AND_DESIGN', '4.7', '87510', '8.7M', '5,000,000+', 'Free', '0', 'Everyone', 'Art & Design', 'August 1, 2018', '1.2.4', '4.0.3 and up']\n",
      "\n",
      "\n",
      "Number of rows: 10841\n",
      "Number of columns: 13\n"
     ]
    }
   ],
   "source": [
    "def explore_data(dataset, start, end, rows_and_columns=False):\n",
    "    dataset_slice = dataset[start:end]    \n",
    "    for row in dataset_slice:\n",
    "        print(row)\n",
    "        print('\\n') # adds a new (empty) line after each row\n",
    "\n",
    "    if rows_and_columns:\n",
    "        print('Number of rows:', len(dataset))\n",
    "        print('Number of columns:', len(dataset[0]))\n",
    "        \n",
    "print(android_header)\n",
    "print(\"\\n\")\n",
    "explore_data(android, 0, 3, True)"
   ]
  },
  {
   "cell_type": "markdown",
   "metadata": {},
   "source": [
    "Now I have a big picture of the size and content of the dataset. There are 10841 observations ( Google Play applications) and 13 different variables."
   ]
  },
  {
   "cell_type": "code",
   "execution_count": 3,
   "metadata": {},
   "outputs": [
    {
     "name": "stdout",
     "output_type": "stream",
     "text": [
      "['id', 'track_name', 'size_bytes', 'currency', 'price', 'rating_count_tot', 'rating_count_ver', 'user_rating', 'user_rating_ver', 'ver', 'cont_rating', 'prime_genre', 'sup_devices.num', 'ipadSc_urls.num', 'lang.num', 'vpp_lic']\n",
      "\n",
      "\n",
      "['284882215', 'Facebook', '389879808', 'USD', '0.0', '2974676', '212', '3.5', '3.5', '95.0', '4+', 'Social Networking', '37', '1', '29', '1']\n",
      "\n",
      "\n",
      "['389801252', 'Instagram', '113954816', 'USD', '0.0', '2161558', '1289', '4.5', '4.0', '10.23', '12+', 'Photo & Video', '37', '0', '29', '1']\n",
      "\n",
      "\n",
      "['529479190', 'Clash of Clans', '116476928', 'USD', '0.0', '2130805', '579', '4.5', '4.5', '9.24.12', '9+', 'Games', '38', '5', '18', '1']\n",
      "\n",
      "\n",
      "Number of rows: 7197\n",
      "Number of columns: 16\n"
     ]
    }
   ],
   "source": [
    "print(ios_header)\n",
    "print('\\n')\n",
    "explore_data(ios, 0, 3, True)"
   ]
  },
  {
   "cell_type": "markdown",
   "metadata": {},
   "source": [
    "In the case of the Apple Store dataset, I have 7197 applications and 16 variables.\n",
    "Not all column headers are informative. A more detailed explanation of what the given variable is representing may be found at the links provided above.\n",
    "Not all variables are useful for my analysis. I will focus on those that may help me find the answer to the question: what type of apps are likely to attract more users?"
   ]
  },
  {
   "cell_type": "markdown",
   "metadata": {},
   "source": [
    "# Deleting Error Entry"
   ]
  },
  {
   "cell_type": "markdown",
   "metadata": {},
   "source": [
    "The data set for Google Play has a section dedicated to discussions. In one of them (https://www.kaggle.com/lava18/google-play-store-apps/discussion/66015) one of the users spotted a missing rating entry. An error was identified for row 10472. \n",
    "I will verify if this is really the case by comparing this row with another one."
   ]
  },
  {
   "cell_type": "code",
   "execution_count": 4,
   "metadata": {},
   "outputs": [
    {
     "name": "stdout",
     "output_type": "stream",
     "text": [
      "['Life Made WI-Fi Touchscreen Photo Frame', '1.9', '19', '3.0M', '1,000+', 'Free', '0', 'Everyone', '', 'February 11, 2018', '1.0.19', '4.0 and up']\n",
      "\n",
      "\n",
      "['App', 'Category', 'Rating', 'Reviews', 'Size', 'Installs', 'Type', 'Price', 'Content Rating', 'Genres', 'Last Updated', 'Current Ver', 'Android Ver']\n",
      "\n",
      "\n",
      "['Photo Editor & Candy Camera & Grid & ScrapBook', 'ART_AND_DESIGN', '4.1', '159', '19M', '10,000+', 'Free', '0', 'Everyone', 'Art & Design', 'January 7, 2018', '1.0.0', '4.0.3 and up']\n"
     ]
    }
   ],
   "source": [
    "print(android[10472])  # supposedly incorrect row\n",
    "print('\\n')\n",
    "print(android_header)  # header\n",
    "print('\\n')\n",
    "print(android[0])      # correct row"
   ]
  },
  {
   "cell_type": "markdown",
   "metadata": {},
   "source": [
    "The row 10472 represents the \"Life Made WI-Fi Touchscreen Photo Frame\" app. The number corresponding to the rating column is 19. This is incorrect as the maximum rating for a Google Play app is 5. It was probably a missing value and it seems that all the other columns have shifted. This observation is unusable, that is why I will delete it."
   ]
  },
  {
   "cell_type": "code",
   "execution_count": 5,
   "metadata": {},
   "outputs": [
    {
     "name": "stdout",
     "output_type": "stream",
     "text": [
      "10841\n",
      "10840\n"
     ]
    }
   ],
   "source": [
    "print(len(android))\n",
    "del android[10472]  # don't run this more than once\n",
    "print(len(android))"
   ]
  },
  {
   "cell_type": "markdown",
   "metadata": {},
   "source": [
    "# Identifying and Cleaning Duplicates"
   ]
  },
  {
   "cell_type": "markdown",
   "metadata": {},
   "source": [
    "Scanning the discussion section, I've seen a few debates regarding the duplicates in data set. I'll have a closer look at this issue."
   ]
  },
  {
   "cell_type": "code",
   "execution_count": 6,
   "metadata": {},
   "outputs": [
    {
     "name": "stdout",
     "output_type": "stream",
     "text": [
      "Number of duplicates in apps: 1181\n",
      "\n",
      "\n",
      "Examples of duplicates: ['Quick PDF Scanner + OCR FREE', 'Box', 'Google My Business', 'ZOOM Cloud Meetings', 'join.me - Simple Meetings', 'Box', 'Zenefits', 'Google Ads', 'Google My Business', 'Slack', 'FreshBooks Classic', 'Insightly CRM', 'QuickBooks Accounting: Invoicing & Expenses', 'HipChat - Chat Built for Teams', 'Xero Accounting Software']\n"
     ]
    }
   ],
   "source": [
    "duplicates_app = []\n",
    "unique_app = []\n",
    "\n",
    "for app in android:\n",
    "    name = app[0]\n",
    "    if name in unique_app:\n",
    "        duplicates_app.append(name)\n",
    "    else:\n",
    "        unique_app.append(name)\n",
    "        \n",
    "print(\"Number of duplicates in apps:\", len(duplicates_app))\n",
    "print(\"\\n\")\n",
    "print(\"Examples of duplicates:\", duplicates_app[:15])"
   ]
  },
  {
   "cell_type": "markdown",
   "metadata": {},
   "source": [
    "There are 1181 duplicates in the data set for android apps. I don't want to take into account multiple observations for the same application as this will distort my analysis. Duplicates should be extracted from the data set that is being analyzed. The important question here is: How do I choose which observations should be deleted and which will I keep?\n",
    "\n",
    "I will have a closer look at the set of one of the duplicates."
   ]
  },
  {
   "cell_type": "code",
   "execution_count": 7,
   "metadata": {},
   "outputs": [
    {
     "name": "stdout",
     "output_type": "stream",
     "text": [
      "['App', 'Category', 'Rating', 'Reviews', 'Size', 'Installs', 'Type', 'Price', 'Content Rating', 'Genres', 'Last Updated', 'Current Ver', 'Android Ver']\n",
      "\n",
      "\n",
      "['Google Ads', 'BUSINESS', '4.3', '29313', '20M', '5,000,000+', 'Free', '0', 'Everyone', 'Business', 'July 30, 2018', '1.12.0', '4.0.3 and up']\n",
      "['Google Ads', 'BUSINESS', '4.3', '29313', '20M', '5,000,000+', 'Free', '0', 'Everyone', 'Business', 'July 30, 2018', '1.12.0', '4.0.3 and up']\n",
      "['Google Ads', 'BUSINESS', '4.3', '29331', '20M', '5,000,000+', 'Free', '0', 'Everyone', 'Business', 'July 30, 2018', '1.12.0', '4.0.3 and up']\n",
      "\n",
      "\n",
      "['Slack', 'BUSINESS', '4.4', '51507', 'Varies with device', '5,000,000+', 'Free', '0', 'Everyone', 'Business', 'August 2, 2018', 'Varies with device', 'Varies with device']\n",
      "['Slack', 'BUSINESS', '4.4', '51507', 'Varies with device', '5,000,000+', 'Free', '0', 'Everyone', 'Business', 'August 2, 2018', 'Varies with device', 'Varies with device']\n",
      "['Slack', 'BUSINESS', '4.4', '51510', 'Varies with device', '5,000,000+', 'Free', '0', 'Everyone', 'Business', 'August 2, 2018', 'Varies with device', 'Varies with device']\n"
     ]
    }
   ],
   "source": [
    "print(android_header)\n",
    "print(\"\\n\")\n",
    "for app in android:\n",
    "    name=app[0]\n",
    "    if name == \"Google Ads\":\n",
    "        print(app)\n",
    "print(\"\\n\")\n",
    "for app in android:\n",
    "    name=app[0]\n",
    "    if name == \"Slack\":\n",
    "        print(app)"
   ]
  },
  {
   "cell_type": "markdown",
   "metadata": {},
   "source": [
    "The only differences between observations for the same applications appear in the \"Reviews\" column. This would imply that the data for those applications were collected at different times. We can use this as a criterion for cleaning the duplicates, by keeping the observation with the most reviews obtained. This way we will maintain the most reliable information for each of the applications.\n",
    "\n",
    "To retrieve those unique observations I will:\n",
    "\n",
    "1- Set a dictionary with the key being a unique app name and the corresponding value will be the highest app review number\n",
    "2- Create new data set using the previously set dictionary to make sure I end up having only one entry per application (one with the highest number of reviews)."
   ]
  },
  {
   "cell_type": "code",
   "execution_count": 8,
   "metadata": {},
   "outputs": [],
   "source": [
    "reviews_max = {}\n",
    "\n",
    "for app in android:\n",
    "    name = app[0]\n",
    "    n_reviews = float(app[3])\n",
    "    \n",
    "    if name in reviews_max and reviews_max[name] < n_reviews:\n",
    "        reviews_max[name] = n_reviews\n",
    "    elif name not in reviews_max:\n",
    "        reviews_max[name] = n_reviews"
   ]
  },
  {
   "cell_type": "markdown",
   "metadata": {},
   "source": [
    "As it may be seen above I have counted 1181 duplicates in the data set. Therefore, the length of the created dictionary should correspond to the difference between the length of the data set and the number of those duplicates."
   ]
  },
  {
   "cell_type": "code",
   "execution_count": 9,
   "metadata": {},
   "outputs": [
    {
     "name": "stdout",
     "output_type": "stream",
     "text": [
      "Expected length:  9659\n",
      "Actual length:  9659\n"
     ]
    }
   ],
   "source": [
    "print(\"Expected length: \", len(android)-1181)\n",
    "print(\"Actual length: \", len(reviews_max))"
   ]
  },
  {
   "cell_type": "markdown",
   "metadata": {},
   "source": [
    "Both numbers are equal, which means that the dictionary was created correctly. Now, we can use it to remove the duplicates.\n",
    "I will retrieve from the original data set all observations for the application and review the number indicated in the dictionary. I will also account for the applications that are duplicates but have the same number of reviews (where there is no unique observation with maximum review number). \n",
    "To achieve it I passed two conditions in the if statement. The clean data should have unique values for each application with a higher review number."
   ]
  },
  {
   "cell_type": "code",
   "execution_count": 10,
   "metadata": {},
   "outputs": [],
   "source": [
    "android_clean = []\n",
    "already_added = []\n",
    "\n",
    "for app in android:\n",
    "    name = app[0]\n",
    "    n_reviews = float(app[3])\n",
    "    \n",
    "    if (reviews_max[name]==n_reviews) and (name not in already_added):\n",
    "        android_clean.append(app)\n",
    "        already_added.append(name)"
   ]
  },
  {
   "cell_type": "markdown",
   "metadata": {},
   "source": [
    "Let's verify if the clean data in fact contains only unique observations"
   ]
  },
  {
   "cell_type": "code",
   "execution_count": 11,
   "metadata": {},
   "outputs": [
    {
     "name": "stdout",
     "output_type": "stream",
     "text": [
      "['Photo Editor & Candy Camera & Grid & ScrapBook', 'ART_AND_DESIGN', '4.1', '159', '19M', '10,000+', 'Free', '0', 'Everyone', 'Art & Design', 'January 7, 2018', '1.0.0', '4.0.3 and up']\n",
      "\n",
      "\n",
      "['U Launcher Lite â\\x80\\x93 FREE Live Cool Themes, Hide Apps', 'ART_AND_DESIGN', '4.7', '87510', '8.7M', '5,000,000+', 'Free', '0', 'Everyone', 'Art & Design', 'August 1, 2018', '1.2.4', '4.0.3 and up']\n",
      "\n",
      "\n",
      "['Sketch - Draw & Paint', 'ART_AND_DESIGN', '4.5', '215644', '25M', '50,000,000+', 'Free', '0', 'Teen', 'Art & Design', 'June 8, 2018', 'Varies with device', '4.2 and up']\n",
      "\n",
      "\n",
      "Number of rows: 9659\n",
      "Number of columns: 13\n"
     ]
    }
   ],
   "source": [
    "explore_data(android_clean, 0, 3, True)"
   ]
  },
  {
   "cell_type": "markdown",
   "metadata": {},
   "source": [
    "The total amount of rows (applications) is 9659, that is consistent with what I have expected."
   ]
  },
  {
   "cell_type": "markdown",
   "metadata": {},
   "source": [
    "# Discarding Non-English Apps"
   ]
  },
  {
   "cell_type": "markdown",
   "metadata": {},
   "source": [
    "Since the company for which I am preparing this analysis uses English for the apps they develop, I'd like to analyze only the apps that are directed toward an English-speaking audience. \n",
    "However, our data set contains applications in a foreign language. I will have to identify them and remove from the data set. One of the methods to do this is to remove all the apps where the name contains a symbol that is not regularly used in English text. English text commonly includes letters from the English alphabet, numbers composed of digits from 0 to 9, punctuation marks (., !, ?, ;, etc.), and other symbols (+, *, /, etc.).\n",
    "\n",
    "Luckily the whole set of the characters specific to English texts is encoded using the ASCII standard. Each character from this standard has assigned a number between 0 and 127. I can use this to build a function that will verify whether the given app name contains English or foreign characters.\n"
   ]
  },
  {
   "cell_type": "code",
   "execution_count": 12,
   "metadata": {},
   "outputs": [
    {
     "name": "stdout",
     "output_type": "stream",
     "text": [
      "True\n",
      "False\n"
     ]
    }
   ],
   "source": [
    "def is_english(string):\n",
    "    for character in string:\n",
    "        if ord(character)>127:\n",
    "            return False\n",
    "    return True\n",
    "\n",
    "print(is_english(\"Google Ads\"))\n",
    "print(is_english(\"爱奇艺PPS -《欢乐颂2》电视剧热播\")) #app found in the data set"
   ]
  },
  {
   "cell_type": "markdown",
   "metadata": {},
   "source": [
    "The result is correct, so the function seems to complete its purpose. However, some of the English names of the apps include non-English characters. Like for example, they use emojis or ™, — (em dash), – (en dash), etc. Those characters are not included in the ASCII standard, which means that using this function will result in wrongly labeling English apps as foreign (as can be seen in the example below). "
   ]
  },
  {
   "cell_type": "code",
   "execution_count": 13,
   "metadata": {},
   "outputs": [
    {
     "name": "stdout",
     "output_type": "stream",
     "text": [
      "False\n",
      "False\n",
      "8482\n",
      "128540\n"
     ]
    }
   ],
   "source": [
    "print(is_english('Docs To Go™ Free Office Suite'))\n",
    "print(is_english('Instachat 😜'))\n",
    "\n",
    "print(ord('™'))\n",
    "print(ord('😜'))"
   ]
  },
  {
   "cell_type": "markdown",
   "metadata": {},
   "source": [
    "In order to lower the risk of information loss, I will modify the function to allow up to 3 non-english characters in the name. It's not a perfect solution as it maybe gives away for non-english apps to enter our data set, but at this stage of the analysis, I will not spend more time on the classification."
   ]
  },
  {
   "cell_type": "code",
   "execution_count": 14,
   "metadata": {},
   "outputs": [
    {
     "name": "stdout",
     "output_type": "stream",
     "text": [
      "True\n",
      "False\n",
      "True\n",
      "True\n"
     ]
    }
   ],
   "source": [
    "def is_english(string):\n",
    "    no_ascii = 0\n",
    "    \n",
    "    for character in string:\n",
    "        if ord(character)>127:\n",
    "            no_ascii += 1\n",
    "    \n",
    "    if no_ascii >3:\n",
    "        return False\n",
    "    else:\n",
    "        return True\n",
    "\n",
    "print(is_english(\"Google Ads\"))\n",
    "print(is_english(\"爱奇艺PPS -《欢乐颂2》电视剧热播\"))\n",
    "print(is_english('Docs To Go™ Free Office Suite'))\n",
    "print(is_english('Instachat 😜'))"
   ]
  },
  {
   "cell_type": "markdown",
   "metadata": {},
   "source": [
    "Now I can use the constructed function on both data sets."
   ]
  },
  {
   "cell_type": "code",
   "execution_count": 15,
   "metadata": {},
   "outputs": [
    {
     "name": "stdout",
     "output_type": "stream",
     "text": [
      "['Photo Editor & Candy Camera & Grid & ScrapBook', 'ART_AND_DESIGN', '4.1', '159', '19M', '10,000+', 'Free', '0', 'Everyone', 'Art & Design', 'January 7, 2018', '1.0.0', '4.0.3 and up']\n",
      "\n",
      "\n",
      "['U Launcher Lite â\\x80\\x93 FREE Live Cool Themes, Hide Apps', 'ART_AND_DESIGN', '4.7', '87510', '8.7M', '5,000,000+', 'Free', '0', 'Everyone', 'Art & Design', 'August 1, 2018', '1.2.4', '4.0.3 and up']\n",
      "\n",
      "\n",
      "['Sketch - Draw & Paint', 'ART_AND_DESIGN', '4.5', '215644', '25M', '50,000,000+', 'Free', '0', 'Teen', 'Art & Design', 'June 8, 2018', 'Varies with device', '4.2 and up']\n",
      "\n",
      "\n",
      "Number of rows: 9500\n",
      "Number of columns: 13\n",
      "\n",
      "\n",
      "['284882215', 'Facebook', '389879808', 'USD', '0.0', '2974676', '212', '3.5', '3.5', '95.0', '4+', 'Social Networking', '37', '1', '29', '1']\n",
      "\n",
      "\n",
      "['389801252', 'Instagram', '113954816', 'USD', '0.0', '2161558', '1289', '4.5', '4.0', '10.23', '12+', 'Photo & Video', '37', '0', '29', '1']\n",
      "\n",
      "\n",
      "['529479190', 'Clash of Clans', '116476928', 'USD', '0.0', '2130805', '579', '4.5', '4.5', '9.24.12', '9+', 'Games', '38', '5', '18', '1']\n",
      "\n",
      "\n",
      "Number of rows: 6100\n",
      "Number of columns: 16\n"
     ]
    }
   ],
   "source": [
    "android_eng = []\n",
    "ios_eng = []\n",
    "\n",
    "for app in android_clean:\n",
    "    if is_english(app[0]):\n",
    "        android_eng.append(app)\n",
    "        \n",
    "for app in ios:\n",
    "    if is_english(app[1]):\n",
    "        ios_eng.append(app)\n",
    "        \n",
    "explore_data(android_eng, 0, 3, True)\n",
    "print(\"\\n\")\n",
    "explore_data(ios_eng, 0, 3, True)"
   ]
  },
  {
   "cell_type": "markdown",
   "metadata": {},
   "source": [
    "I end up with data set of 9500 android applications and 6100 of ios applications."
   ]
  },
  {
   "cell_type": "markdown",
   "metadata": {},
   "source": [
    "# Retriving only free of charge Apps"
   ]
  },
  {
   "cell_type": "markdown",
   "metadata": {},
   "source": [
    "Since the company builds only free apps, gaining revenue from the in-app ads, I want to focus the analysis on the subset of the applications that are free of charge to download and install.\n",
    "That is why I will have to isolate applications that are free, both in Google Play and Apple Store."
   ]
  },
  {
   "cell_type": "code",
   "execution_count": 16,
   "metadata": {},
   "outputs": [
    {
     "name": "stdout",
     "output_type": "stream",
     "text": [
      "8759\n",
      "3169\n"
     ]
    }
   ],
   "source": [
    "android_final = []\n",
    "ios_final = []\n",
    "\n",
    "for app in android_eng:\n",
    "    if app[6] == \"Free\":\n",
    "        android_final.append(app)\n",
    "        \n",
    "for app in ios_eng:\n",
    "    if app[4] == \"0.0\":\n",
    "        ios_final.append(app)\n",
    "        \n",
    "print(len(android_final))\n",
    "print(len(ios_final))"
   ]
  },
  {
   "cell_type": "markdown",
   "metadata": {},
   "source": [
    "Our final data set consists of 8759 observations for android and 3169 observations for ios."
   ]
  },
  {
   "cell_type": "markdown",
   "metadata": {},
   "source": [
    "# Most common genres of Apps for android and ios market"
   ]
  },
  {
   "cell_type": "markdown",
   "metadata": {},
   "source": [
    "The company revenue is strongly dependent on the number of people using their apps. That is why, the aim of this project, as was mentioned before, is to determine the features of the app that are more likely to attract a higher number of users. \n",
    "For this project purpose, let's assume that in our company the strategy for the app idea consists of the following steps: 1- Build a minimal Android version of the app, and add it to Google Play. 2- If the app has a good response from users, we then develop it further. 3- If the app is profitable after six months, we also build an iOS version of the app and add it to the App Store.\n",
    "Since our ultimate aim is to succeed with the app in both the App Store and Google Play, we need to find characteristics that work in both markets. The first step in this analysis will be to understand what are the most common genres in the markets in question, for that I will construct frequency tables."
   ]
  },
  {
   "cell_type": "code",
   "execution_count": 17,
   "metadata": {},
   "outputs": [],
   "source": [
    "def freq_table(dataset, index):\n",
    "    table = {}\n",
    "    total = 0\n",
    "    \n",
    "    for row in dataset:\n",
    "        total += 1\n",
    "        value = row[index]\n",
    "        if value in table:\n",
    "            table[value] += 1\n",
    "        else:\n",
    "            table[value] = 1\n",
    "    \n",
    "    table_percentages = {}\n",
    "    for key in table:\n",
    "        percentage = (table[key] / total) * 100\n",
    "        table_percentages[key] = percentage \n",
    "    \n",
    "    return table_percentages\n",
    "\n",
    "\n",
    "def display_table(dataset, index):\n",
    "    table = freq_table(dataset, index)\n",
    "    table_display = []\n",
    "    for key in table:\n",
    "        key_val_as_tuple = (table[key], key)\n",
    "        table_display.append(key_val_as_tuple)\n",
    "        \n",
    "    table_sorted = sorted(table_display, reverse = True)\n",
    "    for entry in table_sorted:\n",
    "        print(entry[1], ':', entry[0])"
   ]
  },
  {
   "cell_type": "markdown",
   "metadata": {},
   "source": [
    "As the first step I will analyze the frequency table of Google Play data set:"
   ]
  },
  {
   "cell_type": "code",
   "execution_count": 18,
   "metadata": {},
   "outputs": [
    {
     "name": "stdout",
     "output_type": "stream",
     "text": [
      "FAMILY : 18.929101495604524\n",
      "GAME : 9.658636830688435\n",
      "TOOLS : 8.48270350496632\n",
      "BUSINESS : 4.646649160863112\n",
      "PRODUCTIVITY : 3.9388057997488297\n",
      "LIFESTYLE : 3.9159721429386916\n",
      "FINANCE : 3.721886060052517\n",
      "MEDICAL : 3.5506336339764815\n",
      "SPORTS : 3.3337138942801694\n",
      "PERSONALIZATION : 3.288046580659892\n",
      "COMMUNICATION : 3.2537960954446854\n",
      "HEALTH_AND_FITNESS : 3.0939604977737187\n",
      "PHOTOGRAPHY : 2.9797922137230275\n",
      "NEWS_AND_MAGAZINES : 2.8085397876469917\n",
      "SOCIAL : 2.6487041899760246\n",
      "TRAVEL_AND_LOCAL : 2.34044982303916\n",
      "SHOPPING : 2.249115195798607\n",
      "BOOKS_AND_REFERENCE : 2.1463637401529856\n",
      "DATING : 1.8609430300262586\n",
      "VIDEO_PLAYERS : 1.8038588880009132\n",
      "MAPS_AND_NAVIGATION : 1.3814362370133577\n",
      "FOOD_AND_DRINK : 1.23301746774746\n",
      "EDUCATION : 1.1759333257221143\n",
      "ENTERTAINMENT : 0.9590135860258021\n",
      "AUTO_AND_VEHICLES : 0.9247631008105948\n",
      "LIBRARIES_AND_DEMO : 0.9019294440004566\n",
      "WEATHER : 0.7877611599497659\n",
      "HOUSE_AND_HOME : 0.7877611599497659\n",
      "EVENTS : 0.7192601895193516\n",
      "ART_AND_DESIGN : 0.6507592190889371\n",
      "PARENTING : 0.639342390683868\n",
      "BEAUTY : 0.6050919054686608\n",
      "COMICS : 0.5822582486585227\n"
     ]
    }
   ],
   "source": [
    "display_table(android_final, 1) # \"Category\" column"
   ]
  },
  {
   "cell_type": "code",
   "execution_count": 19,
   "metadata": {},
   "outputs": [
    {
     "name": "stdout",
     "output_type": "stream",
     "text": [
      "Tools : 8.471286676561252\n",
      "Entertainment : 6.085169539901815\n",
      "Education : 5.388743007192602\n",
      "Business : 4.646649160863112\n",
      "Productivity : 3.9388057997488297\n",
      "Lifestyle : 3.9045553145336225\n",
      "Finance : 3.721886060052517\n",
      "Medical : 3.5506336339764815\n",
      "Sports : 3.4022148647105834\n",
      "Personalization : 3.288046580659892\n",
      "Communication : 3.2537960954446854\n",
      "Action : 3.105377326178788\n",
      "Health & Fitness : 3.0939604977737187\n",
      "Photography : 2.9797922137230275\n",
      "News & Magazines : 2.8085397876469917\n",
      "Social : 2.6487041899760246\n",
      "Travel & Local : 2.329032994634091\n",
      "Shopping : 2.249115195798607\n",
      "Books & Reference : 2.1463637401529856\n",
      "Simulation : 2.055029112912433\n",
      "Dating : 1.8609430300262586\n",
      "Arcade : 1.8266925448110514\n",
      "Video Players & Editors : 1.7810252311907753\n",
      "Casual : 1.735357917570499\n",
      "Maps & Navigation : 1.3814362370133577\n",
      "Food & Drink : 1.23301746774746\n",
      "Puzzle : 1.1416828405069073\n",
      "Racing : 1.0046808996460783\n",
      "Role Playing : 0.947596757620733\n",
      "Auto & Vehicles : 0.9247631008105948\n",
      "Strategy : 0.9133462724055257\n",
      "Libraries & Demo : 0.9019294440004566\n",
      "Weather : 0.7877611599497659\n",
      "House & Home : 0.7877611599497659\n",
      "Events : 0.7192601895193516\n",
      "Adventure : 0.6621760474940062\n",
      "Beauty : 0.6050919054686608\n",
      "Art & Design : 0.6050919054686608\n",
      "Comics : 0.5708414202534536\n",
      "Parenting : 0.4909236214179701\n",
      "Card : 0.4452563077976938\n",
      "Casino : 0.4110058225824865\n",
      "Trivia : 0.3995889941774175\n",
      "Educational;Education : 0.3995889941774175\n",
      "Board : 0.3881721657723485\n",
      "Educational : 0.37675533736727934\n",
      "Education;Education : 0.34250485215207216\n",
      "Word : 0.2511702249115196\n",
      "Casual;Pretend Play : 0.23975339650645053\n",
      "Music : 0.19408608288617424\n",
      "Puzzle;Brain Games : 0.17125242607603608\n",
      "Entertainment;Music & Video : 0.17125242607603608\n",
      "Racing;Action & Adventure : 0.14841876926589792\n",
      "Casual;Brain Games : 0.13700194086082887\n",
      "Casual;Action & Adventure : 0.13700194086082887\n",
      "Arcade;Action & Adventure : 0.1255851124557598\n",
      "Action;Action & Adventure : 0.10275145564562163\n",
      "Educational;Pretend Play : 0.09133462724055258\n",
      "Simulation;Action & Adventure : 0.0799177988354835\n",
      "Parenting;Education : 0.0799177988354835\n",
      "Entertainment;Brain Games : 0.0799177988354835\n",
      "Casual;Creativity : 0.06850097043041443\n",
      "Art & Design;Creativity : 0.06850097043041443\n",
      "Parenting;Music & Video : 0.057084142025345355\n",
      "Educational;Brain Games : 0.057084142025345355\n",
      "Education;Pretend Play : 0.057084142025345355\n",
      "Board;Brain Games : 0.057084142025345355\n",
      "Role Playing;Pretend Play : 0.04566731362027629\n",
      "Education;Creativity : 0.04566731362027629\n",
      "Role Playing;Action & Adventure : 0.03425048521520722\n",
      "Puzzle;Action & Adventure : 0.03425048521520722\n",
      "Entertainment;Creativity : 0.03425048521520722\n",
      "Entertainment;Action & Adventure : 0.03425048521520722\n",
      "Educational;Creativity : 0.03425048521520722\n",
      "Educational;Action & Adventure : 0.03425048521520722\n",
      "Education;Music & Video : 0.03425048521520722\n",
      "Education;Brain Games : 0.03425048521520722\n",
      "Education;Action & Adventure : 0.03425048521520722\n",
      "Adventure;Action & Adventure : 0.03425048521520722\n",
      "Video Players & Editors;Music & Video : 0.022833656810138145\n",
      "Sports;Action & Adventure : 0.022833656810138145\n",
      "Simulation;Pretend Play : 0.022833656810138145\n",
      "Puzzle;Creativity : 0.022833656810138145\n",
      "Music;Music & Video : 0.022833656810138145\n",
      "Entertainment;Pretend Play : 0.022833656810138145\n",
      "Casual;Education : 0.022833656810138145\n",
      "Board;Action & Adventure : 0.022833656810138145\n",
      "Video Players & Editors;Creativity : 0.011416828405069072\n",
      "Trivia;Education : 0.011416828405069072\n",
      "Travel & Local;Action & Adventure : 0.011416828405069072\n",
      "Tools;Education : 0.011416828405069072\n",
      "Strategy;Education : 0.011416828405069072\n",
      "Strategy;Creativity : 0.011416828405069072\n",
      "Strategy;Action & Adventure : 0.011416828405069072\n",
      "Simulation;Education : 0.011416828405069072\n",
      "Role Playing;Brain Games : 0.011416828405069072\n",
      "Racing;Pretend Play : 0.011416828405069072\n",
      "Puzzle;Education : 0.011416828405069072\n",
      "Parenting;Brain Games : 0.011416828405069072\n",
      "Music & Audio;Music & Video : 0.011416828405069072\n",
      "Lifestyle;Pretend Play : 0.011416828405069072\n",
      "Lifestyle;Education : 0.011416828405069072\n",
      "Health & Fitness;Education : 0.011416828405069072\n",
      "Health & Fitness;Action & Adventure : 0.011416828405069072\n",
      "Entertainment;Education : 0.011416828405069072\n",
      "Communication;Creativity : 0.011416828405069072\n",
      "Comics;Creativity : 0.011416828405069072\n",
      "Card;Action & Adventure : 0.011416828405069072\n",
      "Books & Reference;Education : 0.011416828405069072\n",
      "Art & Design;Pretend Play : 0.011416828405069072\n",
      "Art & Design;Action & Adventure : 0.011416828405069072\n",
      "Arcade;Pretend Play : 0.011416828405069072\n",
      "Adventure;Education : 0.011416828405069072\n"
     ]
    }
   ],
   "source": [
    "display_table(android_final, -4) # \"Genres\" column"
   ]
  },
  {
   "cell_type": "markdown",
   "metadata": {},
   "source": [
    "It is not clear how the \"Genres\" and \"Category\" variables were constructed and what is the difference between them. What is obvious at first glance is that the former column is much more detailed, having more categories. Since I am only interested in the big picture, for now, I will focus on the \"Category\" column.\n",
    "\n",
    "The leading category in existing applications is \"family\" accounting for almost 19% of the whole data set. It is followed by the \"game\" category that has only half as many applications in the Google Play, and then by \"tools\" category with 8,48% of the representation."
   ]
  },
  {
   "cell_type": "code",
   "execution_count": 20,
   "metadata": {},
   "outputs": [
    {
     "name": "stdout",
     "output_type": "stream",
     "text": [
      "Games : 58.53581571473651\n",
      "Entertainment : 7.82581255916693\n",
      "Photo & Video : 5.0489113284947935\n",
      "Education : 3.72357210476491\n",
      "Social Networking : 3.2817923635216157\n",
      "Shopping : 2.5244556642473968\n",
      "Utilities : 2.398232881035027\n",
      "Sports : 2.1773430104133795\n",
      "Music : 2.0511202272010096\n",
      "Health & Fitness : 1.9880088355948247\n",
      "Productivity : 1.7040075733669928\n",
      "Lifestyle : 1.5462290943515304\n",
      "News : 1.3253392237298833\n",
      "Travel : 1.1360050489113285\n",
      "Finance : 1.1044493531082362\n",
      "Weather : 0.8520037866834964\n",
      "Food & Drink : 0.8204480908804039\n",
      "Reference : 0.5364468286525718\n",
      "Business : 0.5364468286525718\n",
      "Book : 0.3786683496371095\n",
      "Navigation : 0.18933417481855475\n",
      "Medical : 0.18933417481855475\n",
      "Catalogs : 0.12622278321236985\n"
     ]
    }
   ],
   "source": [
    "display_table(ios_final, -5) # \"prime_genre\" column"
   ]
  },
  {
   "cell_type": "markdown",
   "metadata": {},
   "source": [
    "The Apple Store frequency table at first glance shows a different market, where the \"Games\" category is leading with overwhelming 58,3%. Entertainment apps are close to 8%, followed by photo and video apps, which are close to 5%. Only 3.72% of the apps are designed for education.\n",
    "\n",
    "However, let's keep in mind that the number of apps does not directly imply a number of users — the demand might not be the same as the supply.\n",
    "\n",
    "It is obvious that the Apple Store (the English, free of charge subset) is dominated by applications that are intended for fun and entertainment, while the practical apps (education, shopping, utilities, productivity, lifestyle, etc.) are less common.\n",
    "Google Play seems to have the majority of applications that are designed for practical purposes. Nevertheless, when you look closer at the \"family\" category, it contains also games for kids, so in fact, it may also account for the games and entertainment.\n",
    "\n",
    "In summary, what I may say for sure is that the Apple Store is dominated by apps designed for fun, while Google Play shows a more balanced landscape of both practical and for-fun apps. \n",
    "\n",
    "Now I'd like to explore which apps have most users."
   ]
  },
  {
   "cell_type": "markdown",
   "metadata": {},
   "source": [
    "# Most popular genres for Apps in the Google Play"
   ]
  },
  {
   "cell_type": "markdown",
   "metadata": {},
   "source": [
    "In order to find out which kind of apps attract most of the users I will calculate the average number of installs per every app genre.\n",
    "For the Google Play data set, I will take the \"Installs\" column that represents a number of installments. However, data for the variable is not very precise, as most of the numbers are open-ended (100+, 1,000+, 5,000+, etc.)."
   ]
  },
  {
   "cell_type": "code",
   "execution_count": 21,
   "metadata": {},
   "outputs": [
    {
     "name": "stdout",
     "output_type": "stream",
     "text": [
      "1,000,000+ : 15.74380637059025\n",
      "100,000+ : 11.519579860714693\n",
      "10,000,000+ : 10.606233588309168\n",
      "10,000+ : 10.20664459413175\n",
      "1,000+ : 8.368535220915629\n",
      "100+ : 6.9528484986870644\n",
      "5,000,000+ : 6.872930699851581\n",
      "500,000+ : 5.548578604863569\n",
      "50,000+ : 4.772234273318872\n",
      "5,000+ : 4.486813563192145\n",
      "10+ : 3.5163831487612742\n",
      "500+ : 3.208128781824409\n",
      "50,000,000+ : 2.2833656810138145\n",
      "100,000,000+ : 2.1349469117479165\n",
      "50+ : 1.929444000456673\n",
      "5+ : 0.7877611599497659\n",
      "1+ : 0.5137572782281082\n",
      "500,000,000+ : 0.27400388172165774\n",
      "1,000,000,000+ : 0.22833656810138142\n",
      "0+ : 0.04566731362027629\n"
     ]
    }
   ],
   "source": [
    "display_table(android_final, 5)"
   ]
  },
  {
   "cell_type": "markdown",
   "metadata": {},
   "source": [
    "Such data won't give me precise results and the classification is very wide. I cannot know whether 10,000+ has 10,001 installs or closer 49,000 installs. However, for the purpose of this project, we don't need very precise data. Our aim is to only get an idea regarding the genres and which of them attract more users, without specifying the exact number.\n",
    "\n",
    "To simplify the analysis I will assume all the categories correspond to their lower border. That means I will assume that 10,000+ installs correspond to 10,000 installs, etc.\n",
    "\n",
    "Firstly, I will remove the + sign and convert the numbers to floats, so I can perform mathematical calculations on them."
   ]
  },
  {
   "cell_type": "code",
   "execution_count": 22,
   "metadata": {},
   "outputs": [
    {
     "name": "stdout",
     "output_type": "stream",
     "text": [
      "ART_AND_DESIGN : 1986335.0877192982\n",
      "AUTO_AND_VEHICLES : 654074.8271604938\n",
      "BEAUTY : 513151.88679245283\n",
      "BOOKS_AND_REFERENCE : 8329168.936170213\n",
      "BUSINESS : 1712290.1474201474\n",
      "COMICS : 859042.1568627451\n",
      "COMMUNICATION : 38550548.03859649\n",
      "DATING : 861409.5521472392\n",
      "EDUCATION : 1833495.145631068\n",
      "ENTERTAINMENT : 11767380.952380951\n",
      "EVENTS : 253542.22222222222\n",
      "FINANCE : 1365500.4049079753\n",
      "FOOD_AND_DRINK : 1951283.8055555555\n",
      "HEALTH_AND_FITNESS : 4219697.055350553\n",
      "HOUSE_AND_HOME : 1385541.463768116\n",
      "LIBRARIES_AND_DEMO : 649314.0506329114\n",
      "LIFESTYLE : 1447458.976676385\n",
      "GAME : 15571586.690307328\n",
      "FAMILY : 3718295.0422195415\n",
      "MEDICAL : 121161.87781350482\n",
      "SOCIAL : 23628689.23275862\n",
      "SHOPPING : 7103190.78680203\n",
      "PHOTOGRAPHY : 17840110.40229885\n",
      "SPORTS : 3750580.6438356163\n",
      "TRAVEL_AND_LOCAL : 14120454.07804878\n",
      "TOOLS : 10902378.834454913\n",
      "PERSONALIZATION : 5240358.986111111\n",
      "PRODUCTIVITY : 16787331.344927534\n",
      "PARENTING : 552875.1785714285\n",
      "WEATHER : 5212877.101449275\n",
      "VIDEO_PLAYERS : 24878048.860759493\n",
      "NEWS_AND_MAGAZINES : 9626407.357723577\n",
      "MAPS_AND_NAVIGATION : 4115374.214876033\n"
     ]
    }
   ],
   "source": [
    "categ_android = freq_table(android_final, 1)\n",
    "\n",
    "for category in categ_android:\n",
    "    total = 0\n",
    "    len_category = 0\n",
    "    for app in android_final:\n",
    "        category_app = app[1]\n",
    "        if category_app == category:\n",
    "            n_installs = app[5]\n",
    "            n_installs = n_installs.replace(\"+\", \"\")\n",
    "            n_installs = n_installs.replace(\",\", \"\")\n",
    "            total += float(n_installs)\n",
    "            len_category += 1\n",
    "    avg_n_installs = total/len_category\n",
    "    print(category, \":\", avg_n_installs)"
   ]
  },
  {
   "cell_type": "markdown",
   "metadata": {},
   "source": [
    "Apps in the \"Communication\" category have the most installs: 38,550,548. This value, however, is heavily skewed up by a few apps with an extreme number os installs, like: WhatsApp, Facebook Messenger, Skype, Google Chrome, Gmail, etc.\n",
    "Here is the closer look at the giants in the communication app market:"
   ]
  },
  {
   "cell_type": "code",
   "execution_count": 23,
   "metadata": {},
   "outputs": [
    {
     "name": "stdout",
     "output_type": "stream",
     "text": [
      "WhatsApp Messenger : 1,000,000,000+\n",
      "imo beta free calls and text : 100,000,000+\n",
      "Android Messages : 100,000,000+\n",
      "Google Duo - High Quality Video Calls : 500,000,000+\n",
      "Messenger â Text and Video Chat for Free : 1,000,000,000+\n",
      "imo free video calls and chat : 500,000,000+\n",
      "Skype - free IM & video calls : 1,000,000,000+\n",
      "Who : 100,000,000+\n",
      "GO SMS Pro - Messenger, Free Themes, Emoji : 100,000,000+\n",
      "LINE: Free Calls & Messages : 500,000,000+\n",
      "Google Chrome: Fast & Secure : 1,000,000,000+\n",
      "Firefox Browser fast & private : 100,000,000+\n",
      "UC Browser - Fast Download Private & Secure : 500,000,000+\n",
      "Gmail : 1,000,000,000+\n",
      "Hangouts : 1,000,000,000+\n",
      "Messenger Lite: Free Calls & Messages : 100,000,000+\n",
      "Kik : 100,000,000+\n",
      "KakaoTalk: Free Calls & Text : 100,000,000+\n",
      "Opera Mini - fast web browser : 100,000,000+\n",
      "Opera Browser: Fast and Secure : 100,000,000+\n",
      "Telegram : 100,000,000+\n",
      "Truecaller: Caller ID, SMS spam blocking & Dialer : 100,000,000+\n",
      "UC Browser Mini -Tiny Fast Private & Secure : 100,000,000+\n",
      "Viber Messenger : 500,000,000+\n",
      "WeChat : 100,000,000+\n",
      "Yahoo Mail â Stay Organized : 100,000,000+\n",
      "BBM - Free Calls & Messages : 100,000,000+\n"
     ]
    }
   ],
   "source": [
    "for app in android_final:\n",
    "    if app[1] == \"COMMUNICATION\" and (app[5]==\"1,000,000,000+\"\n",
    "                                      or app[5]==\"500,000,000+\"\n",
    "                                      or app[5]==\"100,000,000+\"):\n",
    "        print(app[0], \":\", app[5])"
   ]
  },
  {
   "cell_type": "raw",
   "metadata": {},
   "source": [
    "Removing the extreme values may help in better understanding of the data. Skipping an application that has over 100 mln installs already heavily lightens the average of the \"Communication\" category, reducing it almost 10 times."
   ]
  },
  {
   "cell_type": "code",
   "execution_count": 24,
   "metadata": {},
   "outputs": [
    {
     "data": {
      "text/plain": [
       "3437620.895348837"
      ]
     },
     "execution_count": 24,
     "metadata": {},
     "output_type": "execute_result"
    }
   ],
   "source": [
    "under_100_mln = []\n",
    "\n",
    "for app in android_final:\n",
    "    n_installs = app[5]\n",
    "    n_installs = n_installs.replace(\"+\", \"\")\n",
    "    n_installs = n_installs.replace(\",\", \"\")\n",
    "    if (app[1] == \"COMMUNICATION\") and (float(n_installs)<100000000):\n",
    "        under_100_mln.append(float(n_installs))\n",
    "sum(under_100_mln)/ len(under_100_mln)"
   ]
  },
  {
   "cell_type": "markdown",
   "metadata": {},
   "source": [
    "A similar pattern may be found in the \"video_players\" category which represents 24,878,048 installs. Here the market is led by applications like Youtube, Google Play Movies & TV, or MX Player. The situation repeats itself in the category \"social\" where we have hidden influence of Facebook, Instagram, Google+, etc., or \"productivity\" apps with leading Microsoft Word, Dropbox, Google Calendar, Evernote. Those categories are dominated by a few enormous companies, where the economy of the network plays a significant role. This means that it will be almost impossible to compete in those markets for a small company such as my client. In applications like Facebook, Youtube, Google+, Instagram, etc the main value is added through social networks operating on global scales. \n",
    "\n",
    "The \"game\" category seems to be also popular, but as I have analyzed it in the previous segment, this market seems to be overflooded, that is why I will focus on other possibilities. There is a \"books_and_reference\" category that pinned my interest. The average number of installs for this genre is equal to 8,329,168."
   ]
  },
  {
   "cell_type": "code",
   "execution_count": 25,
   "metadata": {},
   "outputs": [
    {
     "name": "stdout",
     "output_type": "stream",
     "text": [
      "E-Book Read - Read Book for free : 50,000+\n",
      "Download free book with green book : 100,000+\n",
      "Wikipedia : 10,000,000+\n",
      "Cool Reader : 10,000,000+\n",
      "Free Panda Radio Music : 100,000+\n",
      "Book store : 1,000,000+\n",
      "FBReader: Favorite Book Reader : 10,000,000+\n",
      "English Grammar Complete Handbook : 500,000+\n",
      "Free Books - Spirit Fanfiction and Stories : 1,000,000+\n",
      "Google Play Books : 1,000,000,000+\n",
      "AlReader -any text book reader : 5,000,000+\n",
      "Offline English Dictionary : 100,000+\n",
      "Offline: English to Tagalog Dictionary : 500,000+\n",
      "FamilySearch Tree : 1,000,000+\n",
      "Cloud of Books : 1,000,000+\n",
      "Recipes of Prophetic Medicine for free : 500,000+\n",
      "ReadEra â free ebook reader : 1,000,000+\n",
      "Anonymous caller detection : 10,000+\n",
      "Ebook Reader : 5,000,000+\n",
      "Litnet - E-books : 100,000+\n",
      "Read books online : 5,000,000+\n",
      "English to Urdu Dictionary : 500,000+\n",
      "eBoox: book reader fb2 epub zip : 1,000,000+\n",
      "English Persian Dictionary : 500,000+\n",
      "Flybook : 500,000+\n",
      "All Maths Formulas : 1,000,000+\n",
      "Ancestry : 5,000,000+\n",
      "HTC Help : 10,000,000+\n",
      "English translation from Bengali : 100,000+\n",
      "Pdf Book Download - Read Pdf Book : 100,000+\n",
      "Free Book Reader : 100,000+\n",
      "eBoox new: Reader for fb2 epub zip books : 50,000+\n",
      "Only 30 days in English, the guideline is guaranteed : 500,000+\n",
      "Moon+ Reader : 10,000,000+\n",
      "SH-02J Owner's Manual (Android 8.0) : 50,000+\n",
      "English-Myanmar Dictionary : 1,000,000+\n",
      "Golden Dictionary (EN-AR) : 1,000,000+\n",
      "All Language Translator Free : 1,000,000+\n",
      "Azpen eReader : 500,000+\n",
      "URBANO V 02 instruction manual : 100,000+\n",
      "Bible : 100,000,000+\n",
      "C Programs and Reference : 50,000+\n",
      "C Offline Tutorial : 1,000+\n",
      "C Programs Handbook : 50,000+\n",
      "Amazon Kindle : 100,000,000+\n",
      "Aab e Hayat Full Novel : 100,000+\n",
      "Aldiko Book Reader : 10,000,000+\n",
      "Google I/O 2018 : 500,000+\n",
      "R Language Reference Guide : 10,000+\n",
      "Learn R Programming Full : 5,000+\n",
      "R Programing Offline Tutorial : 1,000+\n",
      "Guide for R Programming : 5+\n",
      "Learn R Programming : 10+\n",
      "R Quick Reference Big Data : 1,000+\n",
      "V Made : 100,000+\n",
      "Dictionary - WordWeb : 5,000,000+\n",
      "Guide (for X-MEN) : 100,000+\n",
      "AC Air condition Troubleshoot,Repair,Maintenance : 5,000+\n",
      "AE Bulletins : 1,000+\n",
      "Ae Allah na Dai (Rasa) : 10,000+\n",
      "50000 Free eBooks & Free AudioBooks : 5,000,000+\n",
      "Ag PhD Field Guide : 10,000+\n",
      "Ag PhD Deficiencies : 10,000+\n",
      "Ag PhD Planting Population Calculator : 1,000+\n",
      "Ag PhD Soybean Diseases : 1,000+\n",
      "Fertilizer Removal By Crop : 50,000+\n",
      "A-J Media Vault : 50+\n",
      "Al-Quran (Free) : 10,000,000+\n",
      "Al Quran (Tafsir & by Word) : 500,000+\n",
      "Al Quran Indonesia : 10,000,000+\n",
      "Al'Quran Bahasa Indonesia : 10,000,000+\n",
      "Al Quran Al karim : 1,000,000+\n",
      "Al-Muhaffiz : 50,000+\n",
      "Al Quran : EAlim - Translations & MP3 Offline : 5,000,000+\n",
      "Al-Quran 30 Juz free copies : 500,000+\n",
      "Koran Read &MP3 30 Juz Offline : 1,000,000+\n",
      "Hafizi Quran 15 lines per page : 1,000,000+\n",
      "Quran for Android : 10,000,000+\n",
      "Surah Al-Waqiah : 100,000+\n",
      "Hisnul Al Muslim - Hisn Invocations & Adhkaar : 100,000+\n",
      "Satellite AR : 1,000,000+\n",
      "Audiobooks from Audible : 100,000,000+\n",
      "Kinot & Eichah for Tisha B'Av : 10,000+\n",
      "AW Tozer Devotionals - Daily : 5,000+\n",
      "Tozer Devotional -Series 1 : 1,000+\n",
      "The Pursuit of God : 1,000+\n",
      "AY Sing : 5,000+\n",
      "Ay Hasnain k Nana Milad Naat : 10,000+\n",
      "Ay Mohabbat Teri Khatir Novel : 10,000+\n",
      "Arizona Statutes, ARS (AZ Law) : 1,000+\n",
      "Oxford A-Z of English Usage : 1,000,000+\n",
      "BD Fishpedia : 1,000+\n",
      "BD All Sim Offer : 10,000+\n",
      "Youboox - Livres, BD et magazines : 500,000+\n",
      "B&H Kids AR : 10,000+\n",
      "B y H NiÃ±os ES : 5,000+\n",
      "Dictionary.com: Find Definitions for English Words : 10,000,000+\n",
      "English Dictionary - Offline : 10,000,000+\n",
      "Bible KJV : 5,000,000+\n",
      "Borneo Bible, BM Bible : 10,000+\n",
      "MOD Black for BM : 100+\n",
      "BM Box : 1,000+\n",
      "Anime Mod for BM : 100+\n",
      "NOOK: Read eBooks & Magazines : 10,000,000+\n",
      "NOOK Audiobooks : 500,000+\n",
      "NOOK App for NOOK Devices : 500,000+\n",
      "Browsery by Barnes & Noble : 5,000+\n",
      "bp e-store : 1,000+\n",
      "Brilliant Quotes: Life, Love, Family & Motivation : 1,000,000+\n",
      "BR Ambedkar Biography & Quotes : 10,000+\n",
      "BU Alsace : 100+\n",
      "Catholic La Bu Zo Kam : 500+\n",
      "Khrifa Hla Bu (Solfa) : 10+\n",
      "Kristian Hla Bu : 10,000+\n",
      "SA HLA BU : 1,000+\n",
      "Learn SAP BW : 500+\n",
      "Learn SAP BW on HANA : 500+\n",
      "CA Laws 2018 (California Laws and Codes) : 5,000+\n",
      "Bootable Methods(USB-CD-DVD) : 10,000+\n",
      "cloudLibrary : 100,000+\n",
      "SDA Collegiate Quarterly : 500+\n",
      "Sabbath School : 100,000+\n",
      "Cypress College Library : 100+\n",
      "Stats Royale for Clash Royale : 1,000,000+\n",
      "GATE 21 years CS Papers(2011-2018 Solved) : 50+\n",
      "Learn CT Scan Of Head : 5,000+\n",
      "Easy Cv maker 2018 : 10,000+\n",
      "How to Write CV : 100,000+\n",
      "CW Nuclear : 1,000+\n",
      "CY Spray nozzle : 10+\n",
      "BibleRead En Cy Zh Yue : 5+\n",
      "CZ-Help : 5+\n",
      "Guide for DB Xenoverse : 10,000+\n",
      "Guide for DB Xenoverse 2 : 10,000+\n",
      "Guide for IMS DB : 10+\n",
      "DC HSEMA : 5,000+\n",
      "DC Public Library : 1,000+\n",
      "Painting Lulu DC Super Friends : 1,000+\n",
      "Dictionary : 10,000,000+\n",
      "Fix Error Google Playstore : 1,000+\n",
      "D. H. Lawrence Poems FREE : 1,000+\n",
      "Bilingual Dictionary Audio App : 5,000+\n",
      "DM Screen : 10,000+\n",
      "wikiHow: how to do anything : 1,000,000+\n",
      "Dr. Doug's Tips : 1,000+\n",
      "Bible du Semeur-BDS (French) : 50,000+\n",
      "La citadelle du musulman : 50,000+\n",
      "DV 2019 Entry Guide : 10,000+\n",
      "DV 2019 - EDV Photo & Form : 50,000+\n",
      "DV 2018 Winners Guide : 1,000+\n",
      "EB Annual Meetings : 1,000+\n",
      "EC - AP & Telangana : 5,000+\n",
      "TN Patta Citta & EC : 10,000+\n",
      "AP Stamps and Registration : 10,000+\n",
      "CompactiMa EC pH Calibration : 100+\n",
      "EGW Writings 2 : 100,000+\n",
      "EGW Writings : 1,000,000+\n",
      "Bible with EGW Comments : 100,000+\n",
      "My Little Pony AR Guide : 1,000,000+\n",
      "SDA Sabbath School Quarterly : 500,000+\n",
      "Duaa Ek Ibaadat : 5,000+\n",
      "Spanish English Translator : 10,000,000+\n",
      "Dictionary - Merriam-Webster : 10,000,000+\n",
      "JW Library : 10,000,000+\n",
      "Oxford Dictionary of English : Free : 10,000,000+\n",
      "English Hindi Dictionary : 10,000,000+\n",
      "English to Hindi Dictionary : 5,000,000+\n",
      "EP Research Service : 1,000+\n",
      "Hymnes et Louanges : 100,000+\n",
      "EU Charter : 1,000+\n",
      "EU Data Protection : 1,000+\n",
      "EU IP Codes : 100+\n",
      "EW PDF : 5+\n",
      "BakaReader EX : 100,000+\n",
      "EZ Quran : 50,000+\n",
      "FA Part 1 & 2 Past Papers Solved Free â Offline : 5,000+\n",
      "La Fe de Jesus : 1,000+\n",
      "La Fe de JesÃºs : 500+\n",
      "Le Fe de Jesus : 500+\n",
      "Florida - Pocket Brainbook : 1,000+\n",
      "Florida Statutes (FL Code) : 1,000+\n",
      "English To Shona Dictionary : 10,000+\n",
      "Greek Bible FP (Audio) : 1,000+\n",
      "Golden Dictionary (FR-AR) : 500,000+\n",
      "Fanfic-FR : 5,000+\n",
      "Bulgarian French Dictionary Fr : 10,000+\n",
      "Chemin (fr) : 1,000+\n",
      "The SCP Foundation DB fr nn5n : 1,000+\n"
     ]
    }
   ],
   "source": [
    "for app in android_final:\n",
    "    if app[1] == \"BOOKS_AND_REFERENCE\":\n",
    "        print(app[0], \":\", app[5])"
   ]
  },
  {
   "cell_type": "markdown",
   "metadata": {},
   "source": [
    "This category contains a wide range of apps, like software for processing and reading ebooks, various collections of libraries, dictionaries, tutorials on programming or languages, etc. There are some applications with very high numbers of the installs that skew the average:"
   ]
  },
  {
   "cell_type": "code",
   "execution_count": 26,
   "metadata": {},
   "outputs": [
    {
     "name": "stdout",
     "output_type": "stream",
     "text": [
      "Google Play Books : 1,000,000,000+\n",
      "Bible : 100,000,000+\n",
      "Amazon Kindle : 100,000,000+\n",
      "Audiobooks from Audible : 100,000,000+\n"
     ]
    }
   ],
   "source": [
    "for app in android_final:\n",
    "    if app[1] == 'BOOKS_AND_REFERENCE' and (app[5] == '1,000,000,000+'\n",
    "                                            or app[5] == '500,000,000+'\n",
    "                                            or app[5] == '100,000,000+'):\n",
    "        print(app[0], ':', app[5])"
   ]
  },
  {
   "cell_type": "markdown",
   "metadata": {},
   "source": [
    "Nevertheless, there are only a few of those applications. In my opinion for my company, the best strategy would be to focus on the market with apps that are situated in the middle of the popularity in a given category. Here it would mean somewhere between 1mln and 100mln installs:"
   ]
  },
  {
   "cell_type": "code",
   "execution_count": 27,
   "metadata": {},
   "outputs": [
    {
     "name": "stdout",
     "output_type": "stream",
     "text": [
      "Wikipedia : 10,000,000+\n",
      "Cool Reader : 10,000,000+\n",
      "Book store : 1,000,000+\n",
      "FBReader: Favorite Book Reader : 10,000,000+\n",
      "Free Books - Spirit Fanfiction and Stories : 1,000,000+\n",
      "AlReader -any text book reader : 5,000,000+\n",
      "FamilySearch Tree : 1,000,000+\n",
      "Cloud of Books : 1,000,000+\n",
      "ReadEra â free ebook reader : 1,000,000+\n",
      "Ebook Reader : 5,000,000+\n",
      "Read books online : 5,000,000+\n",
      "eBoox: book reader fb2 epub zip : 1,000,000+\n",
      "All Maths Formulas : 1,000,000+\n",
      "Ancestry : 5,000,000+\n",
      "HTC Help : 10,000,000+\n",
      "Moon+ Reader : 10,000,000+\n",
      "English-Myanmar Dictionary : 1,000,000+\n",
      "Golden Dictionary (EN-AR) : 1,000,000+\n",
      "All Language Translator Free : 1,000,000+\n",
      "Aldiko Book Reader : 10,000,000+\n",
      "Dictionary - WordWeb : 5,000,000+\n",
      "50000 Free eBooks & Free AudioBooks : 5,000,000+\n",
      "Al-Quran (Free) : 10,000,000+\n",
      "Al Quran Indonesia : 10,000,000+\n",
      "Al'Quran Bahasa Indonesia : 10,000,000+\n",
      "Al Quran Al karim : 1,000,000+\n",
      "Al Quran : EAlim - Translations & MP3 Offline : 5,000,000+\n",
      "Koran Read &MP3 30 Juz Offline : 1,000,000+\n",
      "Hafizi Quran 15 lines per page : 1,000,000+\n",
      "Quran for Android : 10,000,000+\n",
      "Satellite AR : 1,000,000+\n",
      "Oxford A-Z of English Usage : 1,000,000+\n",
      "Dictionary.com: Find Definitions for English Words : 10,000,000+\n",
      "English Dictionary - Offline : 10,000,000+\n",
      "Bible KJV : 5,000,000+\n",
      "NOOK: Read eBooks & Magazines : 10,000,000+\n",
      "Brilliant Quotes: Life, Love, Family & Motivation : 1,000,000+\n",
      "Stats Royale for Clash Royale : 1,000,000+\n",
      "Dictionary : 10,000,000+\n",
      "wikiHow: how to do anything : 1,000,000+\n",
      "EGW Writings : 1,000,000+\n",
      "My Little Pony AR Guide : 1,000,000+\n",
      "Spanish English Translator : 10,000,000+\n",
      "Dictionary - Merriam-Webster : 10,000,000+\n",
      "JW Library : 10,000,000+\n",
      "Oxford Dictionary of English : Free : 10,000,000+\n",
      "English Hindi Dictionary : 10,000,000+\n",
      "English to Hindi Dictionary : 5,000,000+\n"
     ]
    }
   ],
   "source": [
    "for app in android_final:\n",
    "    if app[1] == 'BOOKS_AND_REFERENCE' and (app[5] == '1,000,000+'\n",
    "                                            or app[5] == '5,000,000+'\n",
    "                                            or app[5] == '10,000,000+'\n",
    "                                            or app[5] == '50,000,000+'):\n",
    "        print(app[0], ':', app[5])"
   ]
  },
  {
   "cell_type": "markdown",
   "metadata": {},
   "source": [
    "This segment is dominated by software for processing and reading ebooks, various libraries and dictionaries. Therefore, it would not be the best strategy to invest in the creation of similar applications, due to the high competition.\n",
    "\n",
    "It seems that popular books, like Quran, have built few apps around them, which would suggest that such applications may be profitable. However, the market is full of libraries and dictionaries, so such an application would have to bring an extra added-value. As an example, such an application could feature a summary of the books, quotes of the day from the book, audio versions and a discussion panel for other readers."
   ]
  },
  {
   "cell_type": "markdown",
   "metadata": {},
   "source": [
    "# Most popular genres for Apps in the App Store"
   ]
  },
  {
   "cell_type": "markdown",
   "metadata": {},
   "source": [
    "Unlike in the case of Google Play data set, the information on a number of app installs is missing for the Apple Store data set. Therefore I will use a proxy, a \"rating_count_tot\" that represents a number of users that rated the given app."
   ]
  },
  {
   "cell_type": "code",
   "execution_count": 28,
   "metadata": {},
   "outputs": [
    {
     "name": "stdout",
     "output_type": "stream",
     "text": [
      "Social Networking : 72916.54807692308\n",
      "Photo & Video : 28441.54375\n",
      "Games : 22985.211320754715\n",
      "Music : 58205.03076923077\n",
      "Reference : 79350.4705882353\n",
      "Health & Fitness : 24037.634920634922\n",
      "Weather : 54215.2962962963\n",
      "Utilities : 19900.473684210527\n",
      "Travel : 31358.5\n",
      "Shopping : 27816.2\n",
      "News : 21750.071428571428\n",
      "Navigation : 86090.33333333333\n",
      "Lifestyle : 16739.34693877551\n",
      "Entertainment : 14364.774193548386\n",
      "Food & Drink : 33333.92307692308\n",
      "Sports : 23008.898550724636\n",
      "Book : 46384.916666666664\n",
      "Finance : 32367.02857142857\n",
      "Education : 7003.983050847458\n",
      "Productivity : 21799.14814814815\n",
      "Business : 7491.117647058823\n",
      "Catalogs : 4004.0\n",
      "Medical : 612.0\n"
     ]
    }
   ],
   "source": [
    "genres_ios = freq_table(ios_final, -5)\n",
    "\n",
    "for genre in genres_ios:\n",
    "    total = 0\n",
    "    len_genre = 0\n",
    "    \n",
    "    for app in ios_final:\n",
    "        genre_app = app[-5]\n",
    "        if genre_app == genre:\n",
    "            total += float(app[5])\n",
    "            len_genre +=1\n",
    "\n",
    "    avg_rating = total/len_genre\n",
    "    print(genre, \":\", avg_rating)\n",
    "  "
   ]
  },
  {
   "cell_type": "markdown",
   "metadata": {},
   "source": [
    "The analysis concludes that the highest number of user reviews on average comes from the application in the \"Navigation\" genre. What is surprising, because from the previous analysis I know that this genre account only for approx 0.19% of the total applications in the Apple Store."
   ]
  },
  {
   "cell_type": "code",
   "execution_count": 29,
   "metadata": {},
   "outputs": [
    {
     "name": "stdout",
     "output_type": "stream",
     "text": [
      "Waze - GPS Navigation, Maps & Real-time Traffic : 345046\n",
      "Google Maps - Navigation & Transit : 154911\n",
      "GeocachingÂ® : 12811\n",
      "CoPilot GPS â Car Navigation & Offline Maps : 3582\n",
      "ImmobilienScout24: Real Estate Search in Germany : 187\n",
      "Railway Route Search : 5\n"
     ]
    }
   ],
   "source": [
    "for app in ios_final:\n",
    "    if app[-5] == \"Navigation\":\n",
    "        print(app[1], \":\", app[5])"
   ]
  },
  {
   "cell_type": "markdown",
   "metadata": {},
   "source": [
    "This figure is highly biased by two lead application: Waze and Google Maps, which together have almost half a million user reviews.\n",
    "\n",
    "This pattern seems to appear in other genres, like for example \"Social Networking\", where the number representing the average user reviews is influenced by few extreme values provided by applications like Facebook, Pinterest, Skype, and more. A similar situation takes place in the \"Music\" genre.\n",
    "\n",
    "The goal of this project was to find popular genres, nevertheless, it is difficult to answer that question having results being biased by a few huge market players. The outcome of the average numbers implies skewness of the distribution by very few apps that accounts for hundreds of thousands of user ratings. This could be partially corrected by removing the extreme values of the few apps for each of the genres and compute the averages. However, I won't proceed with such details, as it is not necessary for the purposes of this project.\n",
    "\n",
    "The third highest rating corresponds to the \"Reference\" genre:"
   ]
  },
  {
   "cell_type": "code",
   "execution_count": 30,
   "metadata": {},
   "outputs": [
    {
     "name": "stdout",
     "output_type": "stream",
     "text": [
      "Bible : 985920\n",
      "Dictionary.com Dictionary & Thesaurus : 200047\n",
      "Dictionary.com Dictionary & Thesaurus for iPad : 54175\n",
      "Google Translate : 26786\n",
      "Muslim Pro: Ramadan 2017 Prayer Times, Azan, Quran : 18418\n",
      "New Furniture Mods - Pocket Wiki & Game Tools for Minecraft PC Edition : 17588\n",
      "Merriam-Webster Dictionary : 16849\n",
      "Night Sky : 12122\n",
      "City Maps for Minecraft PE - The Best Maps for Minecraft Pocket Edition (MCPE) : 8535\n",
      "LUCKY BLOCK MOD â¢ for Minecraft PC Edition - The Best Pocket Wiki & Mods Installer Tools : 4693\n",
      "GUNS MODS for Minecraft PC Edition - Mods Tools : 1497\n",
      "Guides for PokÃ©mon GO - Pokemon GO News and Cheats : 826\n",
      "WWDC : 762\n",
      "Horror Maps for Minecraft PE - Download The Scariest Maps for Minecraft Pocket Edition (MCPE) Free : 718\n",
      "VPN Express : 14\n",
      "Real Bike Traffic Rider Virtual Reality Glasses : 8\n",
      "Jishokun-Japanese English Dictionary & Translator : 0\n"
     ]
    }
   ],
   "source": [
    "for app in ios_final:\n",
    "    if app[-5] == 'Reference':\n",
    "        print(app[1], ':', app[5])"
   ]
  },
  {
   "cell_type": "markdown",
   "metadata": {},
   "source": [
    "However, those are the Bible and Dictionary.com which skew up the average rating. Other genres that seem popular include weather, book, food and drink, or finance. The essence of \"Book\" and \"Reference\" genres are overlapping. This may carry some potential in the app idea. There could be an application for popular books with some extra features than simply a book. An added value could bring some quotes from the book, the book's audio version, quizzes or games, etc. Moreover, the app could include an in-app dictionary.  \n",
    "\n",
    "Apple Store is dominated by \"for-fun\" apps, mostly represented by giants in the industry, which would make very difficult, for the company I am representing, to compete in this genre and gain profits. This is why a good idea would be to explore the niche in the market, by creating a practical app, like the one with the book. This idea seems to have more sense taking into consideration that we found this genre has some potential to succeed on Google Play as well. Let's remember that my aim is to recommend an app genre that shows potential for being profitable on both markets: android and ios apps."
   ]
  },
  {
   "cell_type": "markdown",
   "metadata": {},
   "source": [
    "# Conclusions"
   ]
  },
  {
   "cell_type": "markdown",
   "metadata": {},
   "source": [
    "This project's aim was to conduct basic data analyzes regarding the App Store and Google Play mobile apps in order to recommend an app profile that might be profitable for both markets. I've concluded that a good idea for an app could be the creation of a book-related application. \n",
    "This is a preliminary analysis and there is much more that could be done. Nevertheless, this is a project for pre-intermediate Python users, based on the Python course of the Dataquest.io."
   ]
  }
 ],
 "metadata": {
  "kernelspec": {
   "display_name": "Python 3",
   "language": "python",
   "name": "python3"
  },
  "language_info": {
   "codemirror_mode": {
    "name": "ipython",
    "version": 3
   },
   "file_extension": ".py",
   "mimetype": "text/x-python",
   "name": "python",
   "nbconvert_exporter": "python",
   "pygments_lexer": "ipython3",
   "version": "3.7.4"
  }
 },
 "nbformat": 4,
 "nbformat_minor": 2
}
